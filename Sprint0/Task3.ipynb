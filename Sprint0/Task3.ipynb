{
 "cells": [
  {
   "cell_type": "markdown",
   "metadata": {},
   "source": [
    "<h1 style=\"color:DodgerBlue\">Индивидальный проект</h1>"
   ]
  },
  {
   "cell_type": "markdown",
   "metadata": {},
   "source": [
    "<h2 style=\"color:DodgerBlue\">Название проекта:</h2>\n",
    "\n",
    "----\n",
    "\n",
    "### Вариант задания №8\n"
   ]
  },
  {
   "cell_type": "markdown",
   "metadata": {},
   "source": [
    "<h2 style=\"color:DodgerBlue\">Описание проекта:</h2>\n",
    "\n",
    "----\n",
    "\n",
    "Создан базовый класс CreditCard в C#, который представляет информацию \n",
    "о кредитных картах. На основе этого класса разработано 3 производных класса, \n",
    "демонстрирующих принципы наследования и полиморфизма. В каждом из классов \n",
    "реализованы новые атрибуты и методы, а также переопределены \n",
    "некоторые методы базового класса для демонстрации полиморфизма.\n"
   ]
  },
  {
   "cell_type": "markdown",
   "metadata": {},
   "source": [
    "<h2 style=\"color:DodgerBlue\">Реализация:</h2>\n",
    "\n",
    "----"
   ]
  },
  {
   "cell_type": "code",
   "execution_count": 2,
   "metadata": {
    "dotnet_interactive": {
     "language": "csharp"
    },
    "polyglot_notebook": {
     "kernelName": "csharp"
    }
   },
   "outputs": [
    {
     "name": "stdout",
     "output_type": "stream",
     "text": [
      "=== КРЕДИТНЫЕ КАРТЫ ===\n",
      "\n",
      "ОБЫЧНАЯ КАРТА:\n",
      "Карта: 1111-2222\n",
      "Владелец: Иван\n",
      "Баланс: 5000 руб.\n",
      "\n",
      "Оплата 2000 руб:\n",
      "Оплата 2000 руб. Успешно! Осталось: 3000 руб.\n",
      "----------------------\n",
      "\n",
      "ЗОЛОТАЯ КАРТА:\n",
      "Карта: 3333-4444\n",
      "Владелец: Петр\n",
      "Баланс: 10000 руб.\n",
      "Бонусы: 0\n",
      "\n",
      "Оплата 3000 руб:\n",
      "Оплата 3000 руб. Успешно! Осталось: 7000 руб.\n",
      "Начислено бонусов: 30\n",
      "----------------------\n",
      "\n",
      "ПРЕМИУМ КАРТА:\n",
      "Карта: 5555-6666\n",
      "Владелец: Мария\n",
      "Баланс: 500 руб.\n",
      "Поддержка: 8-800-555\n",
      "\n",
      "Оплата 1000 руб:\n",
      "Не хватает денег! Нужно: 1000 руб., есть: 500 руб.\n",
      "----------------------\n"
     ]
    }
   ],
   "source": [
    "using System;\n",
    "\n",
    "// Базовый класс кредитной карты\n",
    "public class CreditCard\n",
    "{\n",
    "    public string Number { get; set; }\n",
    "    public string Owner { get; set; }\n",
    "    protected decimal Money { get; set; }\n",
    "\n",
    "    public CreditCard(string number, string owner, decimal money = 0)\n",
    "    {\n",
    "        Number = number;\n",
    "        Owner = owner;\n",
    "        Money = money;\n",
    "    }\n",
    "\n",
    "    public virtual string GetInfo()\n",
    "    {\n",
    "        return $\"Карта: {Number}\\nВладелец: {Owner}\\nБаланс: {Money} руб.\";\n",
    "    }\n",
    "\n",
    "    public virtual string Pay(decimal amount)\n",
    "    {\n",
    "        if (Money >= amount)\n",
    "        {\n",
    "            Money -= amount;\n",
    "            return $\"Оплата {amount} руб. Успешно! Осталось: {Money} руб.\";\n",
    "        }\n",
    "        else\n",
    "        {\n",
    "            return $\"Не хватает денег! Нужно: {amount} руб., есть: {Money} руб.\";\n",
    "        }\n",
    "    }\n",
    "}\n",
    "\n",
    "// Золотая карта с бонусами\n",
    "public class GoldCard : CreditCard\n",
    "{\n",
    "    public int Bonuses { get; private set; }\n",
    "\n",
    "    public GoldCard(string number, string owner, decimal money = 0) \n",
    "        : base(number, owner, money)\n",
    "    {\n",
    "        Bonuses = 0;\n",
    "    }\n",
    "\n",
    "    public override string Pay(decimal amount)\n",
    "    {\n",
    "        string result = base.Pay(amount);\n",
    "        if (result.Contains(\"Успешно\"))\n",
    "        {\n",
    "            int newBonuses = (int)(amount / 100);\n",
    "            Bonuses += newBonuses;\n",
    "            result += $\"\\nНачислено бонусов: {newBonuses}\";\n",
    "        }\n",
    "        return result;\n",
    "    }\n",
    "\n",
    "    public override string GetInfo()\n",
    "    {\n",
    "        return base.GetInfo() + $\"\\nБонусы: {Bonuses}\";\n",
    "    }\n",
    "}\n",
    "\n",
    "// Премиальная карта с поддержкой\n",
    "public class PremiumCard : CreditCard\n",
    "{\n",
    "    public string Support { get; set; }\n",
    "\n",
    "    public PremiumCard(string number, string owner, string support, decimal money = 0) \n",
    "        : base(number, owner, money)\n",
    "    {\n",
    "        Support = support;\n",
    "    }\n",
    "\n",
    "    public override string GetInfo()\n",
    "    {\n",
    "        return base.GetInfo() + $\"\\nПоддержка: {Support}\";\n",
    "    }\n",
    "}\n",
    "\n",
    "        Console.WriteLine(\"=== КРЕДИТНЫЕ КАРТЫ ===\\n\");\n",
    "\n",
    "        // Создаем разные карты\n",
    "        CreditCard simpleCard = new CreditCard(\"1111-2222\", \"Иван\", 5000);\n",
    "        GoldCard goldCard = new GoldCard(\"3333-4444\", \"Петр\", 10000);\n",
    "        PremiumCard premiumCard = new PremiumCard(\"5555-6666\", \"Мария\", \"8-800-555\", 500);\n",
    "\n",
    "        // Показываем информацию\n",
    "        Console.WriteLine(\"ОБЫЧНАЯ КАРТА:\");\n",
    "        Console.WriteLine(simpleCard.GetInfo());\n",
    "        Console.WriteLine(\"\\nОплата 2000 руб:\");\n",
    "        Console.WriteLine(simpleCard.Pay(2000));\n",
    "        Console.WriteLine(\"----------------------\");\n",
    "\n",
    "        Console.WriteLine(\"\\nЗОЛОТАЯ КАРТА:\");\n",
    "        Console.WriteLine(goldCard.GetInfo());\n",
    "        Console.WriteLine(\"\\nОплата 3000 руб:\");\n",
    "        Console.WriteLine(goldCard.Pay(3000));\n",
    "        Console.WriteLine(\"----------------------\");\n",
    "\n",
    "        Console.WriteLine(\"\\nПРЕМИУМ КАРТА:\");\n",
    "        Console.WriteLine(premiumCard.GetInfo());\n",
    "        Console.WriteLine(\"\\nОплата 1000 руб:\");\n",
    "        Console.WriteLine(premiumCard.Pay(1000));\n",
    "        Console.WriteLine(\"----------------------\");\n"
   ]
  }
 ],
 "metadata": {
  "kernelspec": {
   "display_name": ".NET (C#)",
   "language": "C#",
   "name": ".net-csharp"
  },
  "polyglot_notebook": {
   "kernelInfo": {
    "defaultKernelName": "csharp",
    "items": [
     {
      "aliases": [],
      "languageName": "csharp",
      "name": "csharp"
     }
    ]
   }
  }
 },
 "nbformat": 4,
 "nbformat_minor": 2
}
