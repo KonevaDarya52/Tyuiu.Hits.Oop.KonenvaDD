{
 "cells": [
  {
   "cell_type": "markdown",
   "metadata": {},
   "source": [
    "<h1 style=\"color:DodgerBlue\">Создание экземпляров классов (объектов) и взаимодействие объектов между собой</h1>"
   ]
  },
  {
   "cell_type": "markdown",
   "metadata": {},
   "source": [
    "### Создание экземпляров классов (объектов)\n",
    "\n",
    "В C#, экземпляр класса создается с помощью оператора `new`, который выделяет память для нового объекта и вызывает конструктор класса для инициализации этого объекта. Конструктор — это специальный метод в классе, который имеет то же имя, что и класс, и используется для установки начального состояния объекта.\n",
    "\n",
    "#### Пример создания экземпляров классов Vehicle и Car\n",
    "\n",
    "```csharp\n",
    "Vehicle myVehicle = new Vehicle();\n",
    "Car myCar = new Car();\n",
    "```\n",
    "\n",
    "В этом примере создаются два объекта: один для класса `Vehicle` и другой для класса `Car`. Конструкторы этих классов будут автоматически вызваны при создании объектов.\n",
    "\n",
    "### Взаимодействие объектов между Собой\n",
    "\n",
    "Взаимодействие объектов между собой означает, что один объект может вызывать методы другого объекта или обращаться к его свойствам (если они доступны). Это позволяет объектам обмениваться информацией и координировать свои действия.\n",
    "\n",
    "#### Пример взаимодействия объектов\n",
    "\n",
    "```csharp\n",
    "myVehicle.Color = \"Red\";\n",
    "myVehicle.Speed = 60;\n",
    "\n",
    "myCar.Color = \"Blue\";\n",
    "myCar.FuelLevel = 100;\n",
    "myCar.Refuel(50); // Увеличиваем уровень топлива на 50\n",
    "```\n",
    "\n",
    "В этом примере мы устанавливаем свойства `Color` и `Speed` для объекта `myVehicle`, а также свойства `Color` и `FuelLevel` для объекта `myCar`. Затем мы вызываем метод `Refuel` у объекта `myCar`, чтобы увеличить его уровень топлива.\n",
    "\n",
    "### Закрепление правил использования модификаторов доступа\n",
    "\n",
    "Модификаторы доступа определяют уровень доступности членов класса из других частей кода. Важно правильно использовать модификаторы доступа для обеспечения безопасности и инкапсуляции данных.\n",
    "\n",
    "#### Примеры модификаторов доступа в классах Vehicle и Car\n",
    "\n",
    "```csharp\n",
    "public class Vehicle\n",
    "{\n",
    "    public string Color { get; set; } // public свойство\n",
    "    private int speed; // private поле\n",
    "\n",
    "    protected void SetSpeed(int value) // protected метод\n",
    "    {\n",
    "        speed = value;\n",
    "    }\n",
    "}\n",
    "\n",
    "public class Car : Vehicle\n",
    "{\n",
    "    private int fuelLevel; // private поле\n",
    "\n",
    "    public void Refuel(int amount) // public метод\n",
    "    {\n",
    "        fuelLevel += amount;\n",
    "    }\n",
    "\n",
    "    protected void CheckSpeedLimit() // protected метод\n",
    "    {\n",
    "        if (speed > 120)\n",
    "        {\n",
    "            Console.WriteLine(\"Превышен скоростной режим!\");\n",
    "        }\n",
    "    }\n",
    "}\n",
    "```\n",
    "\n",
    "В этом примере:\n",
    "- Свойство `Color` в классе `Vehicle` объявлено как `public`, что позволяет доступ к нему из любого места в коде.\n",
    "- Поле `speed` в классе `Vehicle` объявлено как `private`, что ограничивает доступ к нему только внутри класса `Vehicle`.\n",
    "- Метод `SetSpeed` в классе `Vehicle` объявлен как `protected`, что позволяет доступ к нему из класса `Vehicle` и его производных классов.\n",
    "- Поле `fuelLevel` в классе `Car` объявлено как `private`, ограничивая доступ к нему только внутри класса `Car`.\n",
    "- Методы `Refuel` и `CheckSpeedLimit` в классе `Car` демонстрируют использование модификаторов доступа для контроля над тем, как объекты могут взаимодействовать друг с другом.\n",
    "\n",
    "### Заключение\n",
    "\n",
    "Создание экземпляров классов и взаимодействие между объектами являются ключевыми аспектами объектно-ориентированного программирования в C#. Правильное использование модификаторов доступа обеспечивает безопасность данных и инкапсуляцию, позволяя разработчикам создавать более надежные и управляемые программы."
   ]
  },
  {
   "cell_type": "markdown",
   "metadata": {},
   "source": [
    "<h4 style=\"color:DodgerBlue\">Для проверки напишите пример кода на основе классов Car и Vehicle ниже в блоке:</h4>\n",
    "\n",
    "----"
   ]
  },
  {
   "cell_type": "code",
   "execution_count": 6,
   "metadata": {
    "dotnet_interactive": {
     "language": "csharp"
    },
    "polyglot_notebook": {
     "kernelName": "csharp"
    }
   },
   "outputs": [
    {
     "name": "stdout",
     "output_type": "stream",
     "text": [
      "Скорость увеличена до 50 км/ч\n",
      "Заправлено на 20 литров. Топливо: 120 литров\n"
     ]
    }
   ],
   "source": [
    "\n",
    "public class Vehicle\n",
    "{\n",
    "    public string Color { get; set; }\n",
    "    public int Speed { get; set; }\n",
    "    \n",
    "    public Vehicle()\n",
    "    {\n",
    "    }\n",
    "    \n",
    "    public void Accelerate(int speed)\n",
    "    {\n",
    "        Speed += speed;\n",
    "        Console.WriteLine($\"Скорость увеличена до {Speed} км/ч\");\n",
    "    }\n",
    "}\n",
    "\n",
    "public class Car : Vehicle\n",
    "{\n",
    "    private int _fuelLevel;\n",
    "    \n",
    "    public int FuelLevel\n",
    "    {\n",
    "        get { return _fuelLevel; }\n",
    "        set { _fuelLevel = value; }\n",
    "    }\n",
    "    \n",
    "    public Car() : base()\n",
    "    {\n",
    "    }\n",
    "    \n",
    "    public void Refuel(int amount)\n",
    "    {\n",
    "        _fuelLevel += amount;\n",
    "        Console.WriteLine($\"Заправлено на {amount} литров. Топливо: {_fuelLevel} литров\");\n",
    "    }\n",
    "}\n",
    "\n",
    "// Использование\n",
    "Vehicle vehicle = new Vehicle();\n",
    "vehicle.Color = \"Красный\";\n",
    "vehicle.Accelerate(50);\n",
    "\n",
    "Car car = new Car();\n",
    "car.Color = \"Синий\";\n",
    "car.FuelLevel = 100;\n",
    "car.Refuel(20);"
   ]
  },
  {
   "cell_type": "markdown",
   "metadata": {},
   "source": [
    "<h4 style=\"color:Red\">Задание:</h4>\n",
    "\n",
    "----\n",
    "\n",
    "Ниже в блоке по примеру создайте базовый класс Animal и производные классы (2-3 например Dog, Cat и так далее) реализуйте структуру и объявление класса, включая свойства, геттеры и сеттеры, а также статические и обычными атрибуты и метода класса с реализацией взаимодействия между объектами."
   ]
  },
  {
   "cell_type": "code",
   "execution_count": 8,
   "metadata": {
    "dotnet_interactive": {
     "language": "csharp"
    },
    "polyglot_notebook": {
     "kernelName": "csharp"
    }
   },
   "outputs": [
    {
     "name": "stdout",
     "output_type": "stream",
     "text": [
      "Джек играет с Макс\n",
      "Макс играет с Джек\n",
      "Джек гоняется за Макс\n",
      "Макс прячется от Джек\n",
      "Джек лает\n",
      "Макс мяукает\n",
      "Всего животных: 2\n"
     ]
    }
   ],
   "source": [
    "\n",
    "public class Animal\n",
    "{\n",
    "    public string Name { get; set; }\n",
    "    public int Age { get; set; }\n",
    "    \n",
    "    public static int TotalAnimals = 0;\n",
    "    \n",
    "    public Animal()\n",
    "    {\n",
    "        TotalAnimals++;\n",
    "    }\n",
    "    \n",
    "    public void MakeSound()\n",
    "    {\n",
    "        Console.WriteLine($\"{Name} издает звук\");\n",
    "    }\n",
    "    \n",
    "    // Взаимодействие с другим животным\n",
    "    public void PlayWith(Animal friend)\n",
    "    {\n",
    "        Console.WriteLine($\"{Name} играет с {friend.Name}\");\n",
    "    }\n",
    "}\n",
    "\n",
    "public class Dog : Animal\n",
    "{\n",
    "    public void Bark()\n",
    "    {\n",
    "        Console.WriteLine($\"{Name} лает\");\n",
    "    }\n",
    "    \n",
    "    // Взаимодействие с кошкой\n",
    "    public void ChaseCat(Cat cat)\n",
    "    {\n",
    "        Console.WriteLine($\"{Name} гоняется за {cat.Name}\");\n",
    "    }\n",
    "}\n",
    "\n",
    "public class Cat : Animal\n",
    "{\n",
    "    public void Meow()\n",
    "    {\n",
    "        Console.WriteLine($\"{Name} мяукает\");\n",
    "    }\n",
    "    \n",
    "    // Взаимодействие с собакой\n",
    "    public void HideFromDog(Dog dog)\n",
    "    {\n",
    "        Console.WriteLine($\"{Name} прячется от {dog.Name}\");\n",
    "    }\n",
    "}\n",
    "\n",
    "// Использование с взаимодействием объектов\n",
    "Dog dog = new Dog();\n",
    "dog.Name = \"Джек\";\n",
    "dog.Age = 3;\n",
    "\n",
    "Cat cat = new Cat();\n",
    "cat.Name = \"Макс\";\n",
    "cat.Age = 2;\n",
    "\n",
    "// Взаимодействие между объектами\n",
    "dog.PlayWith(cat);\n",
    "cat.PlayWith(dog);\n",
    "\n",
    "dog.ChaseCat(cat);\n",
    "cat.HideFromDog(dog);\n",
    "\n",
    "dog.Bark();\n",
    "cat.Meow();\n",
    "\n",
    "Console.WriteLine($\"Всего животных: {Animal.TotalAnimals}\");"
   ]
  }
 ],
 "metadata": {
  "kernelspec": {
   "display_name": ".NET (C#)",
   "language": "C#",
   "name": ".net-csharp"
  },
  "polyglot_notebook": {
   "kernelInfo": {
    "defaultKernelName": "csharp",
    "items": [
     {
      "aliases": [],
      "languageName": "csharp",
      "name": "csharp"
     }
    ]
   }
  }
 },
 "nbformat": 4,
 "nbformat_minor": 2
}
