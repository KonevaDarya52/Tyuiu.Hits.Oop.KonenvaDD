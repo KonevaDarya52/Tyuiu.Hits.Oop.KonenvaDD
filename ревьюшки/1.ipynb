{
 "cells": [
  {
   "cell_type": "markdown",
   "metadata": {},
   "source": [
    "<h1 style=\"color:DodgerBlue\">Индивидальный проект</h1>"
   ]
  },
  {
   "cell_type": "markdown",
   "metadata": {},
   "source": [
    "<h2 style=\"color:DodgerBlue\">Реализация:</h2>\n",
    "\n",
    "----"
   ]
  },
  {
   "cell_type": "code",
   "execution_count": 16,
   "metadata": {
    "dotnet_interactive": {
     "language": "csharp"
    },
    "polyglot_notebook": {
     "kernelName": "csharp"
    }
   },
   "outputs": [
    {
     "name": "stdout",
     "output_type": "stream",
     "text": [
      "        ТЕСТИРОВАНИЕ ЦВЕТКА    \n",
      "Цветок: Роза, Тип: Цветок, Высота: 50см\n",
      "Цвет: Красный, Лепестков: 12\n",
      "Цветок Роза распускается и радует глаза!\n",
      "Растение Роза выросло на 15,5 см. Теперь его высота: 65,5 см.\n",
      "Цветок Роза начинает увядать.\n",
      "\n",
      "         ТЕСТИРОВАНИЕ ДЕРЕВА    \n",
      "Дерево: Дуб, Тип: Дерево, Высота: 300см\n",
      "Возраст: 10 лет, Тип листьев: Лиственные\n",
      "Дерево Дуб покрывается новыми листьями!\n",
      "Растение Дуб выросло на 25 см. Теперь его высота: 325 см.\n",
      "Дерево Дуб стало старше на 5 лет. Теперь его возраст: 15 лет.\n",
      "\n",
      "            ПОЛИМОРФИЗМ         \n",
      "Цветок Роза распускается и радует глаза!\n",
      "Дерево Дуб покрывается новыми листьями!\n"
     ]
    }
   ],
   "source": [
    "using System;\n",
    "\n",
    "public class Plant\n",
    "{\n",
    "    public string Name { get; set; }\n",
    "    public string Type { get; set; }\n",
    "    public float Height { get; set; }\n",
    "\n",
    "    public Plant(string name, string type, float height)\n",
    "    {\n",
    "        Name = name;\n",
    "        Type = type;\n",
    "        Height = height;\n",
    "    }\n",
    "\n",
    "    public virtual void Bloom()\n",
    "    {\n",
    "        Console.WriteLine($\"Растение {Name} цветет.\");\n",
    "    }\n",
    "\n",
    "    public void Grow(float growth)\n",
    "    {\n",
    "        Height += growth;\n",
    "        Console.WriteLine($\"Растение {Name} выросло на {growth} см. Теперь его высота: {Height} см.\");\n",
    "    }\n",
    "}\n",
    "\n",
    "public class Flower : Plant\n",
    "{\n",
    "    public string Color { get; set; }\n",
    "    public int PetalsCount { get; set; }\n",
    "    \n",
    "    public Flower(string name, float height, string color, int petalsCount) \n",
    "        : base(name, \"Цветок\", height)\n",
    "    {\n",
    "        Color = color;\n",
    "        PetalsCount = petalsCount;\n",
    "    }\n",
    "   \n",
    "    public override void Bloom()\n",
    "    {\n",
    "        Console.WriteLine($\"Цветок {Name} распускается и радует глаза!\");\n",
    "    }\n",
    "\n",
    "    public void Wither()\n",
    "    {\n",
    "        Console.WriteLine($\"Цветок {Name} начинает увядать.\");\n",
    "    }\n",
    "}\n",
    "\n",
    "public class Tree : Plant\n",
    "{\n",
    "    public int Age { get; set; }\n",
    "    public string LeavesType { get; set; }\n",
    "   \n",
    "    public Tree(string name, float height, int age, string leavesType) \n",
    "        : base(name, \"Дерево\", height)\n",
    "    {\n",
    "        Age = age;\n",
    "        LeavesType = leavesType;\n",
    "    }\n",
    "    \n",
    "    public override void Bloom()\n",
    "    {\n",
    "        Console.WriteLine($\"Дерево {Name} покрывается новыми листьями!\");\n",
    "    }\n",
    "    \n",
    "    public void GrowOlder(int years)\n",
    "    {\n",
    "        Age += years;\n",
    "        Console.WriteLine($\"Дерево {Name} стало старше на {years} лет. Теперь его возраст: {Age} лет.\");\n",
    "    }\n",
    "}\n",
    "\n",
    "Flower rose = new Flower(\"Роза\", 50.0f, \"Красный\", 12);\n",
    "Tree oak = new Tree(\"Дуб\", 300.0f, 10, \"Лиственные\");\n",
    "\n",
    "Console.WriteLine(\"        ТЕСТИРОВАНИЕ ЦВЕТКА    \");\n",
    "Console.WriteLine($\"Цветок: {rose.Name}, Тип: {rose.Type}, Высота: {rose.Height}см\");\n",
    "Console.WriteLine($\"Цвет: {rose.Color}, Лепестков: {rose.PetalsCount}\");\n",
    "rose.Bloom(); // Полиморфизм\n",
    "rose.Grow(15.5f);\n",
    "rose.Wither();\n",
    "Console.WriteLine();\n",
    "\n",
    "Console.WriteLine(\"         ТЕСТИРОВАНИЕ ДЕРЕВА    \");\n",
    "Console.WriteLine($\"Дерево: {oak.Name}, Тип: {oak.Type}, Высота: {oak.Height}см\");\n",
    "Console.WriteLine($\"Возраст: {oak.Age} лет, Тип листьев: {oak.LeavesType}\");\n",
    "oak.Bloom(); // Полиморфизм\n",
    "oak.Grow(25.0f);\n",
    "oak.GrowOlder(5);\n",
    "Console.WriteLine();\n",
    "\n",
    "Console.WriteLine(\"            ПОЛИМОРФИЗМ         \");\n",
    "Plant[] plants = new Plant[] { rose, oak };\n",
    "\n",
    "foreach (var plant in plants)\n",
    "{\n",
    "    plant.Bloom();}\n",
    "\n"
   ]
  }
 ],
 "metadata": {
  "kernelspec": {
   "display_name": ".NET (C#)",
   "language": "C#",
   "name": ".net-csharp"
  },
  "polyglot_notebook": {
   "kernelInfo": {
    "defaultKernelName": "csharp",
    "items": [
     {
      "aliases": [],
      "languageName": "csharp",
      "name": "csharp"
     }
    ]
   }
  }
 },
 "nbformat": 4,
 "nbformat_minor": 2
}
